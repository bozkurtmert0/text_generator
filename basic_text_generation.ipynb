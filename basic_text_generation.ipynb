{
  "nbformat": 4,
  "nbformat_minor": 0,
  "metadata": {
    "colab": {
      "provenance": [],
      "collapsed_sections": [],
      "authorship_tag": "ABX9TyPVMQ2+laIIQCQWqcy3BQfP",
      "include_colab_link": true
    },
    "kernelspec": {
      "name": "python3",
      "display_name": "Python 3"
    },
    "language_info": {
      "name": "python"
    },
    "accelerator": "GPU"
  },
  "cells": [
    {
      "cell_type": "markdown",
      "metadata": {
        "id": "view-in-github",
        "colab_type": "text"
      },
      "source": [
        "<a href=\"https://colab.research.google.com/github/bozkurtmert0/text-generator/blob/main/Text_Generation.ipynb\" target=\"_parent\"><img src=\"https://colab.research.google.com/assets/colab-badge.svg\" alt=\"Open In Colab\"/></a>"
      ]
    },
    {
      "cell_type": "code",
      "execution_count": 5,
      "metadata": {
        "id": "XGsXpa-s8Qwd"
      },
      "outputs": [],
      "source": [
        "from keras.preprocessing import sequence\n",
        "import keras\n",
        "import tensorflow as tf\n",
        "import os\n",
        "import numpy as np"
      ]
    },
    {
      "cell_type": "code",
      "source": [
        "path = \"/content/Arthur-Schopenhauer-Quotes.txt\"\n",
        "text = open(path, 'rb').read().decode(encoding='unicode_escape')"
      ],
      "metadata": {
        "id": "9xcdN3hZDQah"
      },
      "execution_count": 6,
      "outputs": []
    },
    {
      "cell_type": "code",
      "source": [
        "print(text[:250])"
      ],
      "metadata": {
        "colab": {
          "base_uri": "https://localhost:8080/"
        },
        "id": "CD8Jvw8IDipg",
        "outputId": "2d567d5f-2994-4c1f-c5d1-a0655b8ce496"
      },
      "execution_count": 7,
      "outputs": [
        {
          "output_type": "stream",
          "name": "stdout",
          "text": [
            "It is difficult to find happiness within oneself, but it is impossible to find it anywhere else.\r\n",
            "All truth passes through three stages. First, it is ridiculed. Second, it is violently opposed. Third, it is accepted as being self-evident.\r\n",
            "The wise h\n"
          ]
        }
      ]
    },
    {
      "cell_type": "code",
      "source": [
        "vocab = sorted(set(text))\n",
        "print(f'{len(vocab)} unique characters')"
      ],
      "metadata": {
        "colab": {
          "base_uri": "https://localhost:8080/"
        },
        "id": "UHJGIIGRtI4g",
        "outputId": "6679f345-20e3-4738-9576-fe25af6ea1a9"
      },
      "execution_count": 8,
      "outputs": [
        {
          "output_type": "stream",
          "name": "stdout",
          "text": [
            "75 unique characters\n"
          ]
        }
      ]
    },
    {
      "cell_type": "code",
      "source": [
        "words = sorted(set(text))\n",
        "\n",
        "char2idx = {u:i for i, u in enumerate(words)}\n",
        "idx2char = np.array(words)\n",
        "\n",
        "def text2num(yazi):\n",
        "  return np.array([char2idx[c] for c in yazi])\n",
        "  \n",
        "num_text = text2num(text)\n"
      ],
      "metadata": {
        "id": "CGUkPTVkDT_Y"
      },
      "execution_count": 9,
      "outputs": []
    },
    {
      "cell_type": "code",
      "source": [
        "print(text[:15])"
      ],
      "metadata": {
        "colab": {
          "base_uri": "https://localhost:8080/"
        },
        "id": "c38fx0GHEWHh",
        "outputId": "d38fae91-a88c-4e71-f98d-f77d51dfeafd"
      },
      "execution_count": 10,
      "outputs": [
        {
          "output_type": "stream",
          "name": "stdout",
          "text": [
            "It is difficult\n"
          ]
        }
      ]
    },
    {
      "cell_type": "code",
      "source": [
        "print(text2num(text[:15]))"
      ],
      "metadata": {
        "colab": {
          "base_uri": "https://localhost:8080/"
        },
        "id": "oc87To96c7uJ",
        "outputId": "80d24f52-edb0-4379-fead-98d9c637a9a5"
      },
      "execution_count": 11,
      "outputs": [
        {
          "output_type": "stream",
          "name": "stdout",
          "text": [
            "[27 63  2 52 62  2 47 52 49 49 52 46 64 55 63]\n"
          ]
        }
      ]
    },
    {
      "cell_type": "code",
      "source": [
        "def num2text(nums):\n",
        "  try:\n",
        "    nums = nums.numpy()\n",
        "  except:\n",
        "    pass\n",
        "  return ''.join(idx2char[nums])\n"
      ],
      "metadata": {
        "id": "74ZpAWv9EPgE"
      },
      "execution_count": 12,
      "outputs": []
    },
    {
      "cell_type": "code",
      "source": [
        "print(num2text(text2num(text[:15])))"
      ],
      "metadata": {
        "colab": {
          "base_uri": "https://localhost:8080/"
        },
        "id": "ZXOeht2lhJNa",
        "outputId": "2b907bad-6778-45a7-88ba-eb27b8c06442"
      },
      "execution_count": 13,
      "outputs": [
        {
          "output_type": "stream",
          "name": "stdout",
          "text": [
            "It is difficult\n"
          ]
        }
      ]
    },
    {
      "cell_type": "code",
      "source": [
        "seq_length = 100  \n",
        "examples_per_epoch = len(text)//(seq_length+1)\n",
        "char_dataset = tf.data.Dataset.from_tensor_slices(num_text)\n",
        "sequences = char_dataset.batch(seq_length+1, drop_remainder=True)"
      ],
      "metadata": {
        "id": "Xvcy7Lk3hIqp"
      },
      "execution_count": 14,
      "outputs": []
    },
    {
      "cell_type": "code",
      "source": [
        "def split_input_target(chunk):\n",
        "    input_text = chunk[:-1]  \n",
        "    target_text = chunk[1:] \n",
        "    return input_text, target_text\n",
        "dataset = sequences.map(split_input_target)"
      ],
      "metadata": {
        "id": "XcB530Jth4e6"
      },
      "execution_count": 15,
      "outputs": []
    },
    {
      "cell_type": "code",
      "source": [
        "BATCH_SIZE = 64\n",
        "VOCAB_SIZE = len(words) \n",
        "EMBEDDING_DIM = 256\n",
        "RNN_UNITS = 1024\n",
        "\n",
        "BUFFER_SIZE = 10000\n",
        "\n",
        "data = dataset.shuffle(BUFFER_SIZE).batch(BATCH_SIZE, drop_remainder=True)"
      ],
      "metadata": {
        "id": "MYSRrXN2iEIS"
      },
      "execution_count": 16,
      "outputs": []
    },
    {
      "cell_type": "code",
      "source": [
        "def build_model(vocab_size, embedding_dim, rnn_units, batch_size):\n",
        "  model = tf.keras.Sequential([\n",
        "    tf.keras.layers.Embedding(vocab_size, embedding_dim,\n",
        "                              batch_input_shape=[batch_size, None]),\n",
        "    tf.keras.layers.LSTM(rnn_units,\n",
        "                        return_sequences=True,\n",
        "                        stateful=True,\n",
        "                        recurrent_initializer='glorot_uniform'),\n",
        "    tf.keras.layers.Dense(vocab_size)\n",
        "  ])\n",
        "  return model\n",
        "\n",
        "model = build_model(VOCAB_SIZE,EMBEDDING_DIM, RNN_UNITS, BATCH_SIZE)\n",
        "\n",
        "for input_example_batch, target_example_batch in data.take(1):\n",
        "  example_batch_predictions = model(input_example_batch)  "
      ],
      "metadata": {
        "id": "nQ7oyNARin6a"
      },
      "execution_count": 17,
      "outputs": []
    },
    {
      "cell_type": "code",
      "source": [
        "model.summary()"
      ],
      "metadata": {
        "id": "lepUWNIQjkWK",
        "colab": {
          "base_uri": "https://localhost:8080/"
        },
        "outputId": "ef39dab1-78f4-4e9b-ac93-1042546e9555"
      },
      "execution_count": 18,
      "outputs": [
        {
          "output_type": "stream",
          "name": "stdout",
          "text": [
            "Model: \"sequential\"\n",
            "_________________________________________________________________\n",
            " Layer (type)                Output Shape              Param #   \n",
            "=================================================================\n",
            " embedding (Embedding)       (64, None, 256)           19200     \n",
            "                                                                 \n",
            " lstm (LSTM)                 (64, None, 1024)          5246976   \n",
            "                                                                 \n",
            " dense (Dense)               (64, None, 75)            76875     \n",
            "                                                                 \n",
            "=================================================================\n",
            "Total params: 5,343,051\n",
            "Trainable params: 5,343,051\n",
            "Non-trainable params: 0\n",
            "_________________________________________________________________\n"
          ]
        }
      ]
    },
    {
      "cell_type": "code",
      "source": [
        "pred = example_batch_predictions[0]\n",
        "time_pred = pred[0]"
      ],
      "metadata": {
        "id": "w1bgNbD8jl3b"
      },
      "execution_count": 19,
      "outputs": []
    },
    {
      "cell_type": "markdown",
      "source": [
        "Random Prediction"
      ],
      "metadata": {
        "id": "OtcWi5WLuiCn"
      }
    },
    {
      "cell_type": "code",
      "source": [
        "sampled_indices = tf.random.categorical(pred, num_samples=1)\n",
        "\n",
        "sampled_indices = np.reshape(sampled_indices, (1, -1))[0]\n",
        "predicted_chars = num2text(sampled_indices)\n",
        "predicted_chars"
      ],
      "metadata": {
        "colab": {
          "base_uri": "https://localhost:8080/",
          "height": 35
        },
        "id": "6n8hdXvTj8QK",
        "outputId": "c7f5b7fa-af1f-4496-c007-487437689a16"
      },
      "execution_count": 20,
      "outputs": [
        {
          "output_type": "execute_result",
          "data": {
            "text/plain": [
              "'VPC]K\\x97\\rFBRDO«oP\\x858;Dlo(J!I,ivUAi][(\\x928AFA?y!\\rxOqIiI\\r\\xadKBLjs\\xad1\\r-hB1g\\nGalvYfjCOBcWac«j?(0f\"jNvrSMLD8NsVMD'"
            ],
            "application/vnd.google.colaboratory.intrinsic+json": {
              "type": "string"
            }
          },
          "metadata": {},
          "execution_count": 20
        }
      ]
    },
    {
      "cell_type": "code",
      "source": [
        "def loss(labels, logits):\n",
        "  return tf.keras.losses.sparse_categorical_crossentropy(labels, logits, from_logits=True)\n",
        "\n",
        "model.compile(optimizer='adam', loss=loss)"
      ],
      "metadata": {
        "id": "C8IwM963j9RS"
      },
      "execution_count": 21,
      "outputs": []
    },
    {
      "cell_type": "code",
      "source": [
        "checkpoint_dir = './training_checkpoints'\n",
        "\n",
        "checkpoint_prefix = os.path.join(checkpoint_dir, \"ckpt_{epoch}\")\n",
        "\n",
        "checkpoint_callback=tf.keras.callbacks.ModelCheckpoint(\n",
        "    filepath=checkpoint_prefix,\n",
        "    save_weights_only=True)\n"
      ],
      "metadata": {
        "id": "XhnK9joVnXk0"
      },
      "execution_count": 22,
      "outputs": []
    },
    {
      "cell_type": "code",
      "source": [
        "history = model.fit(data, epochs=100, callbacks=[checkpoint_callback])"
      ],
      "metadata": {
        "colab": {
          "base_uri": "https://localhost:8080/"
        },
        "id": "uVNoWqjKnZyL",
        "outputId": "8443ed5e-1bce-49f1-e9b0-9d8e156e3a5a"
      },
      "execution_count": 23,
      "outputs": [
        {
          "output_type": "stream",
          "name": "stdout",
          "text": [
            "Epoch 1/100\n",
            "10/10 [==============================] - 3s 84ms/step - loss: 3.4928\n",
            "Epoch 2/100\n",
            "10/10 [==============================] - 1s 75ms/step - loss: 2.9891\n",
            "Epoch 3/100\n",
            "10/10 [==============================] - 1s 91ms/step - loss: 2.9240\n",
            "Epoch 4/100\n",
            "10/10 [==============================] - 1s 82ms/step - loss: 2.8275\n",
            "Epoch 5/100\n",
            "10/10 [==============================] - 1s 80ms/step - loss: 2.6643\n",
            "Epoch 6/100\n",
            "10/10 [==============================] - 1s 76ms/step - loss: 2.5068\n",
            "Epoch 7/100\n",
            "10/10 [==============================] - 1s 79ms/step - loss: 2.4027\n",
            "Epoch 8/100\n",
            "10/10 [==============================] - 1s 73ms/step - loss: 2.3299\n",
            "Epoch 9/100\n",
            "10/10 [==============================] - 1s 76ms/step - loss: 2.2679\n",
            "Epoch 10/100\n",
            "10/10 [==============================] - 1s 76ms/step - loss: 2.2166\n",
            "Epoch 11/100\n",
            "10/10 [==============================] - 1s 81ms/step - loss: 2.1702\n",
            "Epoch 12/100\n",
            "10/10 [==============================] - 1s 74ms/step - loss: 2.1273\n",
            "Epoch 13/100\n",
            "10/10 [==============================] - 1s 77ms/step - loss: 2.0827\n",
            "Epoch 14/100\n",
            "10/10 [==============================] - 1s 74ms/step - loss: 2.0406\n",
            "Epoch 15/100\n",
            "10/10 [==============================] - 1s 74ms/step - loss: 1.9989\n",
            "Epoch 16/100\n",
            "10/10 [==============================] - 1s 83ms/step - loss: 1.9594\n",
            "Epoch 17/100\n",
            "10/10 [==============================] - 1s 75ms/step - loss: 1.9215\n",
            "Epoch 18/100\n",
            "10/10 [==============================] - 1s 79ms/step - loss: 1.8870\n",
            "Epoch 19/100\n",
            "10/10 [==============================] - 1s 75ms/step - loss: 1.8460\n",
            "Epoch 20/100\n",
            "10/10 [==============================] - 1s 76ms/step - loss: 1.8096\n",
            "Epoch 21/100\n",
            "10/10 [==============================] - 1s 78ms/step - loss: 1.7684\n",
            "Epoch 22/100\n",
            "10/10 [==============================] - 1s 76ms/step - loss: 1.7395\n",
            "Epoch 23/100\n",
            "10/10 [==============================] - 1s 82ms/step - loss: 1.7076\n",
            "Epoch 24/100\n",
            "10/10 [==============================] - 1s 76ms/step - loss: 1.6669\n",
            "Epoch 25/100\n",
            "10/10 [==============================] - 1s 83ms/step - loss: 1.6329\n",
            "Epoch 26/100\n",
            "10/10 [==============================] - 1s 75ms/step - loss: 1.5961\n",
            "Epoch 27/100\n",
            "10/10 [==============================] - 1s 82ms/step - loss: 1.5632\n",
            "Epoch 28/100\n",
            "10/10 [==============================] - 1s 76ms/step - loss: 1.5229\n",
            "Epoch 29/100\n",
            "10/10 [==============================] - 1s 79ms/step - loss: 1.4894\n",
            "Epoch 30/100\n",
            "10/10 [==============================] - 1s 75ms/step - loss: 1.4536\n",
            "Epoch 31/100\n",
            "10/10 [==============================] - 1s 80ms/step - loss: 1.4177\n",
            "Epoch 32/100\n",
            "10/10 [==============================] - 1s 75ms/step - loss: 1.3804\n",
            "Epoch 33/100\n",
            "10/10 [==============================] - 1s 84ms/step - loss: 1.3483\n",
            "Epoch 34/100\n",
            "10/10 [==============================] - 1s 77ms/step - loss: 1.3039\n",
            "Epoch 35/100\n",
            "10/10 [==============================] - 1s 85ms/step - loss: 1.2656\n",
            "Epoch 36/100\n",
            "10/10 [==============================] - 1s 76ms/step - loss: 1.2223\n",
            "Epoch 37/100\n",
            "10/10 [==============================] - 1s 81ms/step - loss: 1.1798\n",
            "Epoch 38/100\n",
            "10/10 [==============================] - 1s 84ms/step - loss: 1.1360\n",
            "Epoch 39/100\n",
            "10/10 [==============================] - 1s 76ms/step - loss: 1.0936\n",
            "Epoch 40/100\n",
            "10/10 [==============================] - 1s 84ms/step - loss: 1.0409\n",
            "Epoch 41/100\n",
            "10/10 [==============================] - 1s 78ms/step - loss: 1.0014\n",
            "Epoch 42/100\n",
            "10/10 [==============================] - 1s 82ms/step - loss: 0.9473\n",
            "Epoch 43/100\n",
            "10/10 [==============================] - 1s 82ms/step - loss: 0.9009\n",
            "Epoch 44/100\n",
            "10/10 [==============================] - 1s 78ms/step - loss: 0.8533\n",
            "Epoch 45/100\n",
            "10/10 [==============================] - 1s 86ms/step - loss: 0.7992\n",
            "Epoch 46/100\n",
            "10/10 [==============================] - 1s 77ms/step - loss: 0.7492\n",
            "Epoch 47/100\n",
            "10/10 [==============================] - 1s 85ms/step - loss: 0.6997\n",
            "Epoch 48/100\n",
            "10/10 [==============================] - 1s 79ms/step - loss: 0.6511\n",
            "Epoch 49/100\n",
            "10/10 [==============================] - 1s 78ms/step - loss: 0.6098\n",
            "Epoch 50/100\n",
            "10/10 [==============================] - 1s 86ms/step - loss: 0.5710\n",
            "Epoch 51/100\n",
            "10/10 [==============================] - 1s 77ms/step - loss: 0.5295\n",
            "Epoch 52/100\n",
            "10/10 [==============================] - 1s 86ms/step - loss: 0.4911\n",
            "Epoch 53/100\n",
            "10/10 [==============================] - 1s 82ms/step - loss: 0.4564\n",
            "Epoch 54/100\n",
            "10/10 [==============================] - 1s 78ms/step - loss: 0.4317\n",
            "Epoch 55/100\n",
            "10/10 [==============================] - 1s 81ms/step - loss: 0.4038\n",
            "Epoch 56/100\n",
            "10/10 [==============================] - 1s 78ms/step - loss: 0.3759\n",
            "Epoch 57/100\n",
            "10/10 [==============================] - 1s 86ms/step - loss: 0.3580\n",
            "Epoch 58/100\n",
            "10/10 [==============================] - 1s 88ms/step - loss: 0.3423\n",
            "Epoch 59/100\n",
            "10/10 [==============================] - 1s 80ms/step - loss: 0.3235\n",
            "Epoch 60/100\n",
            "10/10 [==============================] - 1s 91ms/step - loss: 0.3080\n",
            "Epoch 61/100\n",
            "10/10 [==============================] - 1s 82ms/step - loss: 0.2999\n",
            "Epoch 62/100\n",
            "10/10 [==============================] - 1s 80ms/step - loss: 0.2900\n",
            "Epoch 63/100\n",
            "10/10 [==============================] - 1s 85ms/step - loss: 0.2776\n",
            "Epoch 64/100\n",
            "10/10 [==============================] - 1s 81ms/step - loss: 0.2729\n",
            "Epoch 65/100\n",
            "10/10 [==============================] - 1s 90ms/step - loss: 0.2633\n",
            "Epoch 66/100\n",
            "10/10 [==============================] - 1s 80ms/step - loss: 0.2559\n",
            "Epoch 67/100\n",
            "10/10 [==============================] - 1s 85ms/step - loss: 0.2526\n",
            "Epoch 68/100\n",
            "10/10 [==============================] - 1s 86ms/step - loss: 0.2415\n",
            "Epoch 69/100\n",
            "10/10 [==============================] - 1s 81ms/step - loss: 0.2393\n",
            "Epoch 70/100\n",
            "10/10 [==============================] - 1s 88ms/step - loss: 0.2319\n",
            "Epoch 71/100\n",
            "10/10 [==============================] - 1s 79ms/step - loss: 0.2290\n",
            "Epoch 72/100\n",
            "10/10 [==============================] - 1s 84ms/step - loss: 0.2274\n",
            "Epoch 73/100\n",
            "10/10 [==============================] - 1s 80ms/step - loss: 0.2219\n",
            "Epoch 74/100\n",
            "10/10 [==============================] - 1s 89ms/step - loss: 0.2136\n",
            "Epoch 75/100\n",
            "10/10 [==============================] - 1s 82ms/step - loss: 0.2107\n",
            "Epoch 76/100\n",
            "10/10 [==============================] - 1s 82ms/step - loss: 0.2068\n",
            "Epoch 77/100\n",
            "10/10 [==============================] - 1s 87ms/step - loss: 0.2053\n",
            "Epoch 78/100\n",
            "10/10 [==============================] - 1s 79ms/step - loss: 0.2047\n",
            "Epoch 79/100\n",
            "10/10 [==============================] - 1s 91ms/step - loss: 0.1992\n",
            "Epoch 80/100\n",
            "10/10 [==============================] - 1s 81ms/step - loss: 0.1975\n",
            "Epoch 81/100\n",
            "10/10 [==============================] - 1s 83ms/step - loss: 0.1930\n",
            "Epoch 82/100\n",
            "10/10 [==============================] - 1s 81ms/step - loss: 0.1916\n",
            "Epoch 83/100\n",
            "10/10 [==============================] - 1s 89ms/step - loss: 0.1918\n",
            "Epoch 84/100\n",
            "10/10 [==============================] - 1s 80ms/step - loss: 0.1899\n",
            "Epoch 85/100\n",
            "10/10 [==============================] - 1s 91ms/step - loss: 0.1842\n",
            "Epoch 86/100\n",
            "10/10 [==============================] - 1s 81ms/step - loss: 0.1846\n",
            "Epoch 87/100\n",
            "10/10 [==============================] - 1s 83ms/step - loss: 0.1845\n",
            "Epoch 88/100\n",
            "10/10 [==============================] - 1s 80ms/step - loss: 0.1803\n",
            "Epoch 89/100\n",
            "10/10 [==============================] - 1s 91ms/step - loss: 0.1772\n",
            "Epoch 90/100\n",
            "10/10 [==============================] - 1s 82ms/step - loss: 0.1748\n",
            "Epoch 91/100\n",
            "10/10 [==============================] - 1s 87ms/step - loss: 0.1723\n",
            "Epoch 92/100\n",
            "10/10 [==============================] - 1s 85ms/step - loss: 0.1692\n",
            "Epoch 93/100\n",
            "10/10 [==============================] - 1s 87ms/step - loss: 0.1646\n",
            "Epoch 94/100\n",
            "10/10 [==============================] - 1s 89ms/step - loss: 0.1673\n",
            "Epoch 95/100\n",
            "10/10 [==============================] - 1s 82ms/step - loss: 0.1676\n",
            "Epoch 96/100\n",
            "10/10 [==============================] - 1s 88ms/step - loss: 0.1650\n",
            "Epoch 97/100\n",
            "10/10 [==============================] - 1s 90ms/step - loss: 0.1616\n",
            "Epoch 98/100\n",
            "10/10 [==============================] - 1s 83ms/step - loss: 0.1613\n",
            "Epoch 99/100\n",
            "10/10 [==============================] - 1s 89ms/step - loss: 0.1604\n",
            "Epoch 100/100\n",
            "10/10 [==============================] - 1s 82ms/step - loss: 0.1574\n"
          ]
        }
      ]
    },
    {
      "cell_type": "code",
      "source": [
        "model = build_model(VOCAB_SIZE, EMBEDDING_DIM, RNN_UNITS, batch_size=1)"
      ],
      "metadata": {
        "id": "ZH8NMX4Pnt_j"
      },
      "execution_count": 24,
      "outputs": []
    },
    {
      "cell_type": "code",
      "source": [
        "model.load_weights(tf.train.latest_checkpoint(checkpoint_dir))\n",
        "model.build(tf.TensorShape([1, None]))"
      ],
      "metadata": {
        "id": "Cwzi4I6HndxU"
      },
      "execution_count": 25,
      "outputs": []
    },
    {
      "cell_type": "code",
      "source": [
        "def generate_text(model, start_string):\n",
        "  \n",
        "  num_generate = 100\n",
        "\n",
        "  input_eval = [char2idx[s] for s in start_string]\n",
        "  input_eval = tf.expand_dims(input_eval, 0)\n",
        "\n",
        "  text_generated = []\n",
        "\n",
        "  temperature = 0.5\n",
        "\n",
        "  model.reset_states()\n",
        "  for i in range(num_generate):\n",
        "      predictions = model(input_eval)\n",
        "    \n",
        "      predictions = tf.squeeze(predictions, 0)\n",
        "\n",
        "      predictions = predictions / temperature\n",
        "      predicted_id = tf.random.categorical(predictions, num_samples=1)[-1,0].numpy()\n",
        "\n",
        "      input_eval = tf.expand_dims([predicted_id], 0)\n",
        "\n",
        "      text_generated.append(idx2char[predicted_id])\n",
        "\n",
        "  return (start_string + ''.join(text_generated))\n",
        "\n",
        "inp = input(\"Input for generator: \")\n",
        "print(generate_text(model, inp))"
      ],
      "metadata": {
        "colab": {
          "base_uri": "https://localhost:8080/"
        },
        "id": "MgL5HHmsni8z",
        "outputId": "9186c5de-ce34-40d8-90c5-5ceff1b052b0"
      },
      "execution_count": 28,
      "outputs": [
        {
          "output_type": "stream",
          "name": "stdout",
          "text": [
            "Input for generator: Life is\n",
            "Life is no harlot who throws her arms round the neck of him who does not desire her; on the contrary, shoul\n"
          ]
        }
      ]
    },
    {
      "cell_type": "code",
      "source": [],
      "metadata": {
        "id": "GVsm70iq0lDP"
      },
      "execution_count": null,
      "outputs": []
    }
  ]
}